{
 "cells": [
  {
   "cell_type": "code",
   "execution_count": 1,
   "id": "99e8836e",
   "metadata": {},
   "outputs": [],
   "source": [
    "import dis"
   ]
  },
  {
   "cell_type": "code",
   "execution_count": 2,
   "id": "469c2043",
   "metadata": {},
   "outputs": [
    {
     "name": "stdout",
     "output_type": "stream",
     "text": [
      "  1           0 LOAD_CONST               1 (42)\n",
      "              2 RETURN_VALUE\n"
     ]
    }
   ],
   "source": [
    "dis.dis(lambda: 42)"
   ]
  },
  {
   "cell_type": "code",
   "execution_count": 34,
   "id": "79de4a71",
   "metadata": {},
   "outputs": [],
   "source": [
    "import time\n",
    "\n",
    "def eval_time(func):\n",
    "    \n",
    "    def cal_time(*args, **kwargs):\n",
    "        start = time.time()\n",
    "        r = func(*args, **kwargs)\n",
    "        end = time.time()\n",
    "        return r, end - start\n",
    "    return cal_time\n",
    "\n",
    "\n",
    "@eval_time\n",
    "def fib(n):\n",
    "    a = 0\n",
    "    b = 1\n",
    "    while n > 0:\n",
    "        n -= 1\n",
    "        a, b = b, a + b\n",
    "    return a"
   ]
  },
  {
   "cell_type": "code",
   "execution_count": 40,
   "id": "620b53e2",
   "metadata": {},
   "outputs": [
    {
     "data": {
      "text/plain": [
       "(55, 8.821487426757812e-06)"
      ]
     },
     "execution_count": 40,
     "metadata": {},
     "output_type": "execute_result"
    }
   ],
   "source": [
    "fib(10)"
   ]
  },
  {
   "cell_type": "code",
   "execution_count": 22,
   "id": "e3f51e3a",
   "metadata": {},
   "outputs": [
    {
     "data": {
      "text/plain": [
       "6765"
      ]
     },
     "execution_count": 22,
     "metadata": {},
     "output_type": "execute_result"
    }
   ],
   "source": [
    "fib(20)"
   ]
  },
  {
   "cell_type": "code",
   "execution_count": 27,
   "id": "96b280a7",
   "metadata": {},
   "outputs": [],
   "source": [
    "s = \"\"\"\n",
    "def eval_time(func):\n",
    "    print(\"Hello\")\n",
    "    return func\n",
    "\n",
    "@eval_time\n",
    "def fib(n):\n",
    "    pass\n",
    "\"\"\""
   ]
  },
  {
   "cell_type": "code",
   "execution_count": 28,
   "id": "c4ea8d37",
   "metadata": {},
   "outputs": [
    {
     "name": "stdout",
     "output_type": "stream",
     "text": [
      "  2           0 LOAD_CONST               0 (<code object eval_time at 0x1080532f0, file \"<dis>\", line 2>)\n",
      "              2 LOAD_CONST               1 ('eval_time')\n",
      "              4 MAKE_FUNCTION            0\n",
      "              6 STORE_NAME               0 (eval_time)\n",
      "\n",
      "  6           8 LOAD_NAME                0 (eval_time)\n",
      "\n",
      "  7          10 LOAD_CONST               2 (<code object fib at 0x108053660, file \"<dis>\", line 6>)\n",
      "             12 LOAD_CONST               3 ('fib')\n",
      "             14 MAKE_FUNCTION            0\n",
      "             16 CALL_FUNCTION            1\n",
      "             18 STORE_NAME               1 (fib)\n",
      "             20 LOAD_CONST               4 (None)\n",
      "             22 RETURN_VALUE\n",
      "\n",
      "Disassembly of <code object eval_time at 0x1080532f0, file \"<dis>\", line 2>:\n",
      "  3           0 LOAD_GLOBAL              0 (print)\n",
      "              2 LOAD_CONST               1 ('Hello')\n",
      "              4 CALL_FUNCTION            1\n",
      "              6 POP_TOP\n",
      "\n",
      "  4           8 LOAD_FAST                0 (func)\n",
      "             10 RETURN_VALUE\n",
      "\n",
      "Disassembly of <code object fib at 0x108053660, file \"<dis>\", line 6>:\n",
      "  8           0 LOAD_CONST               0 (None)\n",
      "              2 RETURN_VALUE\n"
     ]
    }
   ],
   "source": [
    "dis.dis(s)"
   ]
  },
  {
   "cell_type": "code",
   "execution_count": null,
   "id": "8dad4aac",
   "metadata": {},
   "outputs": [],
   "source": []
  }
 ],
 "metadata": {
  "kernelspec": {
   "display_name": "Python 3 (ipykernel)",
   "language": "python",
   "name": "python3"
  },
  "language_info": {
   "codemirror_mode": {
    "name": "ipython",
    "version": 3
   },
   "file_extension": ".py",
   "mimetype": "text/x-python",
   "name": "python",
   "nbconvert_exporter": "python",
   "pygments_lexer": "ipython3",
   "version": "3.9.12"
  }
 },
 "nbformat": 4,
 "nbformat_minor": 5
}
