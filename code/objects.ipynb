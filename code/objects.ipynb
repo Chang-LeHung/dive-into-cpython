{
 "cells": [
  {
   "cell_type": "code",
   "execution_count": 3,
   "id": "e9a3b14e",
   "metadata": {},
   "outputs": [],
   "source": [
    "import dis"
   ]
  },
  {
   "cell_type": "code",
   "execution_count": 4,
   "id": "7505d490",
   "metadata": {},
   "outputs": [],
   "source": [
    "data = []"
   ]
  },
  {
   "cell_type": "code",
   "execution_count": 5,
   "id": "23b909b7",
   "metadata": {},
   "outputs": [
    {
     "name": "stdout",
     "output_type": "stream",
     "text": [
      "  1           0 BUILD_LIST               0\n",
      "              2 STORE_NAME               0 (data)\n",
      "              4 LOAD_CONST               0 (None)\n",
      "              6 RETURN_VALUE\n"
     ]
    }
   ],
   "source": [
    "dis.dis(\"data = []\")"
   ]
  },
  {
   "cell_type": "code",
   "execution_count": null,
   "id": "e0e86611",
   "metadata": {},
   "outputs": [],
   "source": [
    "isinstance"
   ]
  }
 ],
 "metadata": {
  "kernelspec": {
   "display_name": "Python 3 (ipykernel)",
   "language": "python",
   "name": "python3"
  },
  "language_info": {
   "codemirror_mode": {
    "name": "ipython",
    "version": 3
   },
   "file_extension": ".py",
   "mimetype": "text/x-python",
   "name": "python",
   "nbconvert_exporter": "python",
   "pygments_lexer": "ipython3",
   "version": "3.10.5"
  }
 },
 "nbformat": 4,
 "nbformat_minor": 5
}
