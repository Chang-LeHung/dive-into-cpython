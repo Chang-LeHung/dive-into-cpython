{
 "cells": [
  {
   "cell_type": "code",
   "execution_count": 7,
   "id": "acb20c35",
   "metadata": {},
   "outputs": [],
   "source": [
    "import dis"
   ]
  },
  {
   "cell_type": "code",
   "execution_count": 10,
   "id": "48f83094",
   "metadata": {},
   "outputs": [],
   "source": [
    "def test():\n",
    "    data = [1, 2, 3]\n",
    "    data.append(4)"
   ]
  },
  {
   "cell_type": "code",
   "execution_count": 11,
   "id": "7fb69566",
   "metadata": {},
   "outputs": [
    {
     "name": "stdout",
     "output_type": "stream",
     "text": [
      "  2           0 BUILD_LIST               0\n",
      "              2 LOAD_CONST               1 ((1, 2, 3))\n",
      "              4 LIST_EXTEND              1\n",
      "              6 STORE_FAST               0 (data)\n",
      "\n",
      "  3           8 LOAD_FAST                0 (data)\n",
      "             10 LOAD_METHOD              0 (append)\n",
      "             12 LOAD_CONST               2 (4)\n",
      "             14 CALL_METHOD              1\n",
      "             16 POP_TOP\n",
      "             18 LOAD_CONST               0 (None)\n",
      "             20 RETURN_VALUE\n"
     ]
    }
   ],
   "source": [
    "dis.dis(test)"
   ]
  },
  {
   "cell_type": "code",
   "execution_count": 4,
   "id": "7443acb1",
   "metadata": {},
   "outputs": [],
   "source": [
    "import pyspark"
   ]
  },
  {
   "cell_type": "code",
   "execution_count": null,
   "id": "0486ac61",
   "metadata": {},
   "outputs": [],
   "source": []
  }
 ],
 "metadata": {
  "kernelspec": {
   "display_name": "Python 3 (ipykernel)",
   "language": "python",
   "name": "python3"
  },
  "language_info": {
   "codemirror_mode": {
    "name": "ipython",
    "version": 3
   },
   "file_extension": ".py",
   "mimetype": "text/x-python",
   "name": "python",
   "nbconvert_exporter": "python",
   "pygments_lexer": "ipython3",
   "version": "3.10.5"
  }
 },
 "nbformat": 4,
 "nbformat_minor": 5
}
