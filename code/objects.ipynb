{
 "cells": [
  {
   "cell_type": "code",
   "execution_count": 1,
   "id": "0b94a646",
   "metadata": {},
   "outputs": [],
   "source": [
    "import dis"
   ]
  },
  {
   "cell_type": "code",
   "execution_count": 9,
   "id": "4006ca7f",
   "metadata": {},
   "outputs": [],
   "source": [
    "class Demo(object):\n",
    "    \n",
    "    def __init__(self):\n",
    "        print(\"Hello World\", \"Ni hao\")"
   ]
  },
  {
   "cell_type": "code",
   "execution_count": 12,
   "id": "34ca6191",
   "metadata": {},
   "outputs": [],
   "source": [
    "s = \"\"\"\n",
    "def demo():\n",
    "    print(\"Hello World\")\n",
    "\"\"\""
   ]
  },
  {
   "cell_type": "code",
   "execution_count": 13,
   "id": "e4310a90",
   "metadata": {},
   "outputs": [
    {
     "name": "stdout",
     "output_type": "stream",
     "text": [
      "  2           0 LOAD_CONST               0 (<code object demo at 0x10820ebe0, file \"<dis>\", line 2>)\n",
      "              2 LOAD_CONST               1 ('demo')\n",
      "              4 MAKE_FUNCTION            0\n",
      "              6 STORE_NAME               0 (demo)\n",
      "              8 LOAD_CONST               2 (None)\n",
      "             10 RETURN_VALUE\n",
      "\n",
      "Disassembly of <code object demo at 0x10820ebe0, file \"<dis>\", line 2>:\n",
      "  3           0 LOAD_GLOBAL              0 (print)\n",
      "              2 LOAD_CONST               1 ('Hello World')\n",
      "              4 CALL_FUNCTION            1\n",
      "              6 POP_TOP\n",
      "              8 LOAD_CONST               0 (None)\n",
      "             10 RETURN_VALUE\n"
     ]
    }
   ],
   "source": [
    "dis.dis(s)"
   ]
  },
  {
   "cell_type": "code",
   "execution_count": 1,
   "id": "c1121456",
   "metadata": {},
   "outputs": [],
   "source": [
    "def add_back_slash(cmd):\n",
    "    chars = []\n",
    "    for (idx, c) in enumerate(cmd):\n",
    "        if c == '\\\"':\n",
    "            chars.append(\"\\\\\")\n",
    "        chars.append(c)\n",
    "    return \"\".join()"
   ]
  },
  {
   "cell_type": "code",
   "execution_count": null,
   "id": "a138e046",
   "metadata": {},
   "outputs": [],
   "source": [
    "add_back_slash()"
   ]
  }
 ],
 "metadata": {
  "kernelspec": {
   "display_name": "Python 3 (ipykernel)",
   "language": "python",
   "name": "python3"
  },
  "language_info": {
   "codemirror_mode": {
    "name": "ipython",
    "version": 3
   },
   "file_extension": ".py",
   "mimetype": "text/x-python",
   "name": "python",
   "nbconvert_exporter": "python",
   "pygments_lexer": "ipython3",
   "version": "3.9.12"
  }
 },
 "nbformat": 4,
 "nbformat_minor": 5
}
