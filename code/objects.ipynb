{
 "cells": [
  {
   "cell_type": "code",
   "execution_count": 1,
   "id": "43ec775e",
   "metadata": {},
   "outputs": [],
   "source": [
    "import dis"
   ]
  },
  {
   "cell_type": "code",
   "execution_count": 2,
   "id": "d4726905",
   "metadata": {},
   "outputs": [
    {
     "name": "stdout",
     "output_type": "stream",
     "text": [
      "  1           0 LOAD_CONST               1 (42)\n",
      "              2 RETURN_VALUE\n"
     ]
    }
   ],
   "source": [
    "dis.dis(lambda: 42)"
   ]
  },
  {
   "cell_type": "code",
   "execution_count": 34,
   "id": "1684e126",
   "metadata": {},
   "outputs": [],
   "source": [
    "import time\n",
    "\n",
    "def eval_time(func):\n",
    "    \n",
    "    def cal_time(*args, **kwargs):\n",
    "        start = time.time()\n",
    "        r = func(*args, **kwargs)\n",
    "        end = time.time()\n",
    "        return r, end - start\n",
    "    return cal_time\n",
    "\n",
    "\n",
    "@eval_time\n",
    "def fib(n):\n",
    "    a = 0\n",
    "    b = 1\n",
    "    while n > 0:\n",
    "        n -= 1\n",
    "        a, b = b, a + b\n",
    "    return a"
   ]
  },
  {
   "cell_type": "code",
   "execution_count": 45,
   "id": "4955c486",
   "metadata": {},
   "outputs": [
    {
     "data": {
      "text/plain": [
       "(55, 5.9604644775390625e-06)"
      ]
     },
     "execution_count": 45,
     "metadata": {},
     "output_type": "execute_result"
    }
   ],
   "source": [
    "fib(10)"
   ]
  },
  {
   "cell_type": "code",
   "execution_count": 22,
   "id": "3c38a895",
   "metadata": {},
   "outputs": [
    {
     "data": {
      "text/plain": [
       "6765"
      ]
     },
     "execution_count": 22,
     "metadata": {},
     "output_type": "execute_result"
    }
   ],
   "source": [
    "fib(20)"
   ]
  },
  {
   "cell_type": "code",
   "execution_count": 46,
   "id": "74c5b52d",
   "metadata": {},
   "outputs": [],
   "source": [
    "s = \"\"\"\n",
    "def decorator(func):\n",
    "    print(\"Hello\")\n",
    "    return func\n",
    "\n",
    "@decorator\n",
    "def fib(n):\n",
    "    pass\n",
    "\"\"\""
   ]
  },
  {
   "cell_type": "code",
   "execution_count": 47,
   "id": "07b3f7a3",
   "metadata": {},
   "outputs": [
    {
     "name": "stdout",
     "output_type": "stream",
     "text": [
      "  2           0 LOAD_CONST               0 (<code object decorator at 0x108068d40, file \"<dis>\", line 2>)\n",
      "              2 LOAD_CONST               1 ('decorator')\n",
      "              4 MAKE_FUNCTION            0\n",
      "              6 STORE_NAME               0 (decorator)\n",
      "\n",
      "  6           8 LOAD_NAME                0 (decorator)\n",
      "\n",
      "  7          10 LOAD_CONST               2 (<code object fib at 0x1075c1710, file \"<dis>\", line 6>)\n",
      "             12 LOAD_CONST               3 ('fib')\n",
      "             14 MAKE_FUNCTION            0\n",
      "             16 CALL_FUNCTION            1\n",
      "             18 STORE_NAME               1 (fib)\n",
      "             20 LOAD_CONST               4 (None)\n",
      "             22 RETURN_VALUE\n",
      "\n",
      "Disassembly of <code object decorator at 0x108068d40, file \"<dis>\", line 2>:\n",
      "  3           0 LOAD_GLOBAL              0 (print)\n",
      "              2 LOAD_CONST               1 ('Hello')\n",
      "              4 CALL_FUNCTION            1\n",
      "              6 POP_TOP\n",
      "\n",
      "  4           8 LOAD_FAST                0 (func)\n",
      "             10 RETURN_VALUE\n",
      "\n",
      "Disassembly of <code object fib at 0x1075c1710, file \"<dis>\", line 6>:\n",
      "  8           0 LOAD_CONST               0 (None)\n",
      "              2 RETURN_VALUE\n"
     ]
    }
   ],
   "source": [
    "dis.dis(s)"
   ]
  },
  {
   "cell_type": "code",
   "execution_count": 48,
   "id": "f5093b5f",
   "metadata": {},
   "outputs": [],
   "source": [
    "s = '''\n",
    "a(1, 2, 3)\n",
    "'''"
   ]
  },
  {
   "cell_type": "code",
   "execution_count": 49,
   "id": "b34c6722",
   "metadata": {},
   "outputs": [
    {
     "name": "stdout",
     "output_type": "stream",
     "text": [
      "  2           0 LOAD_NAME                0 (a)\n",
      "              2 LOAD_CONST               0 (1)\n",
      "              4 LOAD_CONST               1 (2)\n",
      "              6 LOAD_CONST               2 (3)\n",
      "              8 CALL_FUNCTION            3\n",
      "             10 RETURN_VALUE\n"
     ]
    }
   ],
   "source": [
    "dis.dis(s)"
   ]
  },
  {
   "cell_type": "code",
   "execution_count": 52,
   "id": "f8561d1e",
   "metadata": {},
   "outputs": [
    {
     "name": "stdout",
     "output_type": "stream",
     "text": [
      "function demo return string : Demo\n"
     ]
    }
   ],
   "source": [
    "def decorator(func):\n",
    "    return func()\n",
    "\n",
    "\n",
    "@decorator\n",
    "def demo():\n",
    "    return \"function demo return string : Demo\"\n",
    "\n",
    "print(demo)"
   ]
  },
  {
   "cell_type": "code",
   "execution_count": null,
   "id": "18c311bc",
   "metadata": {},
   "outputs": [],
   "source": []
  },
  {
   "cell_type": "code",
   "execution_count": null,
   "id": "a70e246e",
   "metadata": {},
   "outputs": [],
   "source": []
  }
 ],
 "metadata": {
  "kernelspec": {
   "display_name": "Python 3 (ipykernel)",
   "language": "python",
   "name": "python3"
  },
  "language_info": {
   "codemirror_mode": {
    "name": "ipython",
    "version": 3
   },
   "file_extension": ".py",
   "mimetype": "text/x-python",
   "name": "python",
   "nbconvert_exporter": "python",
   "pygments_lexer": "ipython3",
   "version": "3.9.12"
  }
 },
 "nbformat": 4,
 "nbformat_minor": 5
}
